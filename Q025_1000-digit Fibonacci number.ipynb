{
 "cells": [
  {
   "cell_type": "markdown",
   "metadata": {},
   "source": [
    "## 1000-digit Fibonacci number\n",
    "\n",
    "The Fibonacci sequence is defined by the recurrence relation:\n",
    "\n",
    "$F_n = F_{n−1} + F_{n−2}$, where $F_1 = 1$ and $F_2 = 1$.\n",
    "Hence the first 12 terms will be:\n",
    "\n",
    "$F_1 = 1$,\n",
    "$F_2 = 1$,\n",
    "$F_3 = 2$,\n",
    "$F_4 = 3$,\n",
    "$F_5 = 5$,\n",
    "$F_6 = 8$,\n",
    "$F_7 = 13$,\n",
    "$F_8 = 21$,\n",
    "$F_9 = 34$,\n",
    "$F_{10} = 55$,\n",
    "$F_{11} = 89$,\n",
    "$F_{12} = 144$\n",
    "The 12th term, $F_{12}$, is the first term to contain three digits.\n",
    "\n",
    "What is the index of the first term in the Fibonacci sequence to contain 1000 digits?"
   ]
  },
  {
   "cell_type": "code",
   "execution_count": 11,
   "metadata": {
    "collapsed": false
   },
   "outputs": [
    {
     "name": "stdout",
     "output_type": "stream",
     "text": [
      "4782\n"
     ]
    }
   ],
   "source": [
    "import math\n",
    "f1 = 1\n",
    "f2 = 1\n",
    "# start at i=3\n",
    "idx = 2\n",
    "d = 0\n",
    "solution = 0\n",
    "while d < 1000:\n",
    "    idx = idx + 1\n",
    "    f = f1 + f2\n",
    "    d = int(math.log10(f))+1\n",
    "    f1 = f2\n",
    "    f2 = f\n",
    "print idx"
   ]
  },
  {
   "cell_type": "code",
   "execution_count": null,
   "metadata": {
    "collapsed": true
   },
   "outputs": [],
   "source": []
  }
 ],
 "metadata": {
  "kernelspec": {
   "display_name": "Python 2",
   "language": "python",
   "name": "python2"
  },
  "language_info": {
   "codemirror_mode": {
    "name": "ipython",
    "version": 2
   },
   "file_extension": ".py",
   "mimetype": "text/x-python",
   "name": "python",
   "nbconvert_exporter": "python",
   "pygments_lexer": "ipython2",
   "version": "2.7.11"
  }
 },
 "nbformat": 4,
 "nbformat_minor": 0
}
