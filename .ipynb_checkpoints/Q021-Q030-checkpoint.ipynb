{
 "cells": [
  {
   "cell_type": "markdown",
   "metadata": {},
   "source": [
    "## Q021\n",
    "### Amicable numbers\n",
    "\n",
    "Let d(n) be defined as the sum of proper divisors of n (numbers less than n which divide evenly into n).\n",
    "If d(a) = b and d(b) = a, where a ≠ b, then a and b are an amicable pair and each of a and b are called amicable numbers.\n",
    "\n",
    "For example, the proper divisors of 220 are 1, 2, 4, 5, 10, 11, 20, 22, 44, 55 and 110; therefore d(220) = 284. The proper divisors of 284 are 1, 2, 4, 71 and 142; so d(284) = 220.\n",
    "\n",
    "Evaluate the sum of all the amicable numbers under 10000."
   ]
  },
  {
   "cell_type": "code",
   "execution_count": 47,
   "metadata": {
    "collapsed": false
   },
   "outputs": [
    {
     "name": "stdout",
     "output_type": "stream",
     "text": [
      "31626\n"
     ]
    }
   ],
   "source": [
    "def d(n):\n",
    "    if n==2:\n",
    "        return 1\n",
    "    result=0\n",
    "    for i in xrange(1,n/2+1):\n",
    "        if n % i == 0:\n",
    "            result=i+result\n",
    "    return result\n",
    "\n",
    "amicable=[]\n",
    "for a in xrange(2,10000):\n",
    "    b=d(a)\n",
    "    if d(b) == a and a<>b:\n",
    "        amicable.append(a)\n",
    "        amicable.append(b)\n",
    "        #print a,b\n",
    "print sum(set(amicable))"
   ]
  },
  {
   "cell_type": "markdown",
   "metadata": {
    "collapsed": true
   },
   "source": [
    "## Q022\n",
    "### Names scores\n",
    "\n",
    "Using names.txt (right click and 'Save Link/Target As...'), a 46K text file containing over five-thousand first names, begin by sorting it into alphabetical order. Then working out the alphabetical value for each name, multiply this value by its alphabetical position in the list to obtain a name score.\n",
    "\n",
    "For example, when the list is sorted into alphabetical order, COLIN, which is worth 3 + 15 + 12 + 9 + 14 = 53, is the 938th name in the list. So, COLIN would obtain a score of 938 × 53 = 49714.\n",
    "\n",
    "What is the total of all the name scores in the file?"
   ]
  },
  {
   "cell_type": "code",
   "execution_count": 49,
   "metadata": {
    "collapsed": false
   },
   "outputs": [
    {
     "data": {
      "text/plain": [
       "('p022_names.txt', <httplib.HTTPMessage instance at 0x7fe1b82fb560>)"
      ]
     },
     "execution_count": 49,
     "metadata": {},
     "output_type": "execute_result"
    }
   ],
   "source": [
    "import urllib\n",
    "urllib.urlretrieve(\"https://projecteuler.net/project/resources/p022_names.txt\",\"p022_names.txt\")"
   ]
  },
  {
   "cell_type": "code",
   "execution_count": 66,
   "metadata": {
    "collapsed": false
   },
   "outputs": [
    {
     "name": "stdout",
     "output_type": "stream",
     "text": [
      "871198282\n"
     ]
    }
   ],
   "source": [
    "f=open('p022_names.txt')\n",
    "s=f.read().replace('\"','').split(\",\")\n",
    "sorted_s=sorted(s)\n",
    "scores=0\n",
    "for i,a in enumerate(sorted_s):\n",
    "    score=0\n",
    "    for j in map(ord, a):\n",
    "        score=score+j-64\n",
    "    scores=scores+(i+1)*score\n",
    "print scores"
   ]
  },
  {
   "cell_type": "markdown",
   "metadata": {},
   "source": [
    "## Q0223\n",
    "### Non-abundant sums\n",
    "\n",
    "A perfect number is a number for which the sum of its proper divisors is exactly equal to the number. For example, the sum of the proper divisors of 28 would be 1 + 2 + 4 + 7 + 14 = 28, which means that 28 is a perfect number.\n",
    "\n",
    "A number n is called deficient if the sum of its proper divisors is less than n and it is called abundant if this sum exceeds n.\n",
    "\n",
    "As 12 is the smallest abundant number, 1 + 2 + 3 + 4 + 6 = 16, the smallest number that can be written as the sum of two abundant numbers is 24. By mathematical analysis, it can be shown that all integers greater than 28123 can be written as the sum of two abundant numbers. However, this upper limit cannot be reduced any further by analysis even though it is known that the greatest number that cannot be expressed as the sum of two abundant numbers is less than this limit.\n",
    "\n",
    "Find the sum of all the positive integers which cannot be written as the sum of two abundant numbers."
   ]
  },
  {
   "cell_type": "code",
   "execution_count": 70,
   "metadata": {
    "collapsed": false
   },
   "outputs": [
    {
     "name": "stdout",
     "output_type": "stream",
     "text": [
      "6965\n"
     ]
    }
   ],
   "source": [
    "n=28123\n",
    "abundant=[]\n",
    "for a in xrange(2,n):\n",
    "    if d(a) > a:\n",
    "        abundant.append(a)\n",
    "abundant=set(abundant)\n",
    "print len(abundant)"
   ]
  },
  {
   "cell_type": "code",
   "execution_count": 76,
   "metadata": {
    "collapsed": false
   },
   "outputs": [
    {
     "name": "stdout",
     "output_type": "stream",
     "text": [
      "4179871\n"
     ]
    }
   ],
   "source": [
    "abundant_sum=0\n",
    "for i in xrange(2,n):\n",
    "    for x in abundant:\n",
    "        if i-x in abundant:\n",
    "            abundant_sum+=i\n",
    "            break\n",
    "print sum(xrange(2,n))-abundant_sum+1 # we missout the 1"
   ]
  },
  {
   "cell_type": "markdown",
   "metadata": {},
   "source": [
    "## Q024\n",
    "### Lexicographic permutations\n",
    "\n",
    "A permutation is an ordered arrangement of objects. For example, 3124 is one possible permutation of the digits 1, 2, 3 and 4. If all of the permutations are listed numerically or alphabetically, we call it lexicographic order. The lexicographic permutations of 0, 1 and 2 are:\n",
    "\n",
    "012   021   102   120   201   210\n",
    "\n",
    "What is the millionth lexicographic permutation of the digits 0, 1, 2, 3, 4, 5, 6, 7, 8 and 9?"
   ]
  },
  {
   "cell_type": "code",
   "execution_count": null,
   "metadata": {
    "collapsed": true
   },
   "outputs": [],
   "source": [
    "def next_permutation(arr):\n",
    "    # Find non-increasing suffix\n",
    "    i = len(arr) - 1\n",
    "    while i > 0 and arr[i - 1] >= arr[i]:\n",
    "        i -= 1\n",
    "    if i <= 0:\n",
    "        return False\n",
    "    \n",
    "    # Find successor to pivot\n",
    "    j = len(arr) - 1\n",
    "    while arr[j] <= arr[i - 1]:\n",
    "        j -= 1\n",
    "    arr[i - 1], arr[j] = arr[j], arr[i - 1]\n",
    "    \n",
    "    # Reverse suffix\n",
    "    arr[i : ] = arr[len(arr) - 1 : i - 1 : -1]\n",
    "    return True"
   ]
  },
  {
   "cell_type": "code",
   "execution_count": 120,
   "metadata": {
    "collapsed": false
   },
   "outputs": [
    {
     "name": "stdout",
     "output_type": "stream",
     "text": [
      "2 7 8 3 9 1 5 4 6 0\n"
     ]
    }
   ],
   "source": [
    "# https://www.nayuki.io/page/next-lexicographical-permutation-algorithm\n",
    "s=[0,1,2,3,4,5,6,7,8,9]\n",
    "#s=[0,1,2,3]\n",
    "n=1000000\n",
    "def next_lexicographical(s):\n",
    "    # Find non-increasing suffix\n",
    "    i = len(s) - 1\n",
    "    while i > 0 and s[i-1] >= s[i]:\n",
    "        i -= 1\n",
    "    if i <= 0:\n",
    "        return False\n",
    "    \n",
    "    # Find successor to pivot\n",
    "    j = len(s) - 1\n",
    "    while s[j] <= s[i - 1]:\n",
    "        j -= 1\n",
    "\n",
    "    s[i-1],s[j]=s[j],s[i-1]\n",
    "    s[i:]=s[len(s)-1:i-1:-1]\n",
    "    return s\n",
    "i=1\n",
    "while i < n:\n",
    "    s=next_lexicographical(s)\n",
    "    #print s\n",
    "    i+=1\n",
    "for i in s:\n",
    "    print i,"
   ]
  },
  {
   "cell_type": "markdown",
   "metadata": {},
   "source": [
    "## Q026\n",
    "### Reciprocal cycles\n",
    "\n",
    "A unit fraction contains 1 in the numerator. The decimal representation of the unit fractions with denominators 2 to 10 are given:\n",
    "```\n",
    "1/2\t= \t0.5\n",
    "1/3\t= \t0.(3)\n",
    "1/4\t= \t0.25\n",
    "1/5\t= \t0.2\n",
    "1/6\t= \t0.1(6)\n",
    "1/7\t= \t0.(142857)\n",
    "1/8\t= \t0.125\n",
    "1/9\t= \t0.(1)\n",
    "1/10\t= \t0.1\n",
    "```\n",
    "Where 0.1(6) means 0.166666..., and has a 1-digit recurring cycle. It can be seen that 1/7 has a 6-digit recurring cycle.\n",
    "\n",
    "Find the value of d < 1000 for which 1/d contains the longest recurring cycle in its decimal fraction part."
   ]
  },
  {
   "cell_type": "code",
   "execution_count": null,
   "metadata": {
    "collapsed": true
   },
   "outputs": [],
   "source": []
  },
  {
   "cell_type": "markdown",
   "metadata": {},
   "source": [
    "## Q027\n",
    "### Quadratic primes\n",
    "\n",
    "Euler discovered the remarkable quadratic formula:\n",
    "\n",
    "$n^2 + n + 41$\n",
    "\n",
    "It turns out that the formula will produce 40 primes for the consecutive integer values $0 \\le n \\le 39$. However, when $n = 40, 40^2 + 40 + 41 = 40(40 + 1) + 41$ is divisible by 41, and certainly when $n = 41, 41^2 + 41 + 41$ is clearly divisible by 41.\n",
    "\n",
    "The incredible formula $n^2 - 79n + 1601$ was discovered, which produces 80 primes for the consecutive values $0 \\le n \\le 79$. The product of the coefficients, −79 and 1601, is −126479.\n",
    "\n",
    "Considering quadratics of the form:\n",
    "\n",
    "$n^2 + an + b$, where $|a| < 1000$ and $|b| \\le 1000$\n",
    "\n",
    "where $|n|$ is the modulus/absolute value of $n$\n",
    "e.g. $|11| = 11$ and $|-4| = 4$\n",
    "Find the product of the coefficients, $a$ and $b$, for the quadratic expression that produces the maximum number of primes for consecutive values of $n$, starting with $n = 0$."
   ]
  },
  {
   "cell_type": "markdown",
   "metadata": {},
   "source": [
    "## Q028\n",
    "### Number spiral diagonals\n",
    "\n",
    "Starting with the number 1 and moving to the right in a clockwise direction a 5 by 5 spiral is formed as follows:\n",
    "```\n",
    "21 22 23 24 25\n",
    "20  7  8  9 10\n",
    "19  6  1  2 11\n",
    "18  5  4  3 12\n",
    "17 16 15 14 13\n",
    "```\n",
    "It can be verified that the sum of the numbers on the diagonals is 101.\n",
    "\n",
    "What is the sum of the numbers on the diagonals in a 1001 by 1001 spiral formed in the same way?"
   ]
  },
  {
   "cell_type": "code",
   "execution_count": null,
   "metadata": {
    "collapsed": true
   },
   "outputs": [],
   "source": []
  },
  {
   "cell_type": "markdown",
   "metadata": {},
   "source": [
    "## Q029\n",
    "### Distinct powers\n",
    "Consider all integer combinations of $a^b$ for 2 ≤ a ≤ 5 and 2 ≤ b ≤ 5:\n",
    "\n",
    "$2^2=4, 2^3=8, 2^4=16, 2^5=32$\n",
    "\n",
    "$3^2=9, 3^3=27, 3^4=81, 3^5=243$\n",
    "\n",
    "$4^2=16, 4^3=64, 4^4=256, 4^5=1024$\n",
    "\n",
    "$5^2=25, 5^3=125, 5^4=625, 5^5=3125$\n",
    "\n",
    "If they are then placed in numerical order, with any repeats removed, we get the following sequence of 15 distinct terms:\n",
    "\n",
    "4, 8, 9, 16, 25, 27, 32, 64, 81, 125, 243, 256, 625, 1024, 3125\n",
    "\n",
    "How many distinct terms are in the sequence generated by ab for 2 ≤ a ≤ 100 and 2 ≤ b ≤ 100?"
   ]
  },
  {
   "cell_type": "code",
   "execution_count": null,
   "metadata": {
    "collapsed": true
   },
   "outputs": [],
   "source": []
  },
  {
   "cell_type": "markdown",
   "metadata": {},
   "source": [
    "## Q030\n",
    "### Digit fifth powers\n",
    "Surprisingly there are only three numbers that can be written as the sum of fourth powers of their digits:\n",
    "\n",
    "$1634 = 1^4 + 6^4 + 3^4 + 4^4$\n",
    "\n",
    "$8208 = 8^4 + 2^4 + 0^4 + 8^4$\n",
    "\n",
    "$9474 = 9^4 + 4^4 + 7^4 + 4^4$\n",
    "\n",
    "As 1 = $1^4$ is not a sum it is not included.\n",
    "\n",
    "The sum of these numbers is 1634 + 8208 + 9474 = 19316.\n",
    "\n",
    "Find the sum of all the numbers that can be written as the sum of fifth powers of their digits."
   ]
  },
  {
   "cell_type": "code",
   "execution_count": null,
   "metadata": {
    "collapsed": true
   },
   "outputs": [],
   "source": []
  }
 ],
 "metadata": {
  "anaconda-cloud": {},
  "kernelspec": {
   "display_name": "Python [conda root]",
   "language": "python",
   "name": "conda-root-py"
  },
  "language_info": {
   "codemirror_mode": {
    "name": "ipython",
    "version": 2
   },
   "file_extension": ".py",
   "mimetype": "text/x-python",
   "name": "python",
   "nbconvert_exporter": "python",
   "pygments_lexer": "ipython2",
   "version": "2.7.12"
  }
 },
 "nbformat": 4,
 "nbformat_minor": 1
}
