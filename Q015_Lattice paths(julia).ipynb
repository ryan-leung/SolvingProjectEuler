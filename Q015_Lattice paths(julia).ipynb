{
 "cells": [
  {
   "cell_type": "code",
   "execution_count": 15,
   "metadata": {
    "collapsed": false
   },
   "outputs": [
    {
     "name": "stdout",
     "output_type": "stream",
     "text": [
      "252\n"
     ]
    }
   ],
   "source": [
    "function path(x,y)\n",
    "    n=5\n",
    "    if (x == n) && (y == n)\n",
    "        return 1\n",
    "    elseif ((x < n) && (y == n))\n",
    "        return path(x+1,y)\n",
    "    elseif ((y < n) && (x == n))\n",
    "        return path(x,y+1)\n",
    "    else\n",
    "        return path(x+1,y) + path(x,y+1)\n",
    "    end\n",
    "end\n",
    "println(path(0,0))"
   ]
  },
  {
   "cell_type": "code",
   "execution_count": null,
   "metadata": {
    "collapsed": true
   },
   "outputs": [],
   "source": []
  }
 ],
 "metadata": {
  "kernelspec": {
   "display_name": "Julia 0.4.3",
   "language": "julia",
   "name": "julia-0.4"
  },
  "language_info": {
   "file_extension": ".jl",
   "mimetype": "application/julia",
   "name": "julia",
   "version": "0.4.3"
  }
 },
 "nbformat": 4,
 "nbformat_minor": 0
}
