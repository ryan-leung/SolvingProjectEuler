{
 "cells": [
  {
   "cell_type": "markdown",
   "metadata": {},
   "source": [
    "## Lattice paths\n",
    "\n",
    "Starting in the top left corner of a 2×2 grid, and only being able to move to the right and down, there are exactly 6 routes to the bottom right corner.\n",
    "\n",
    "![title](p015.gif)\n",
    "\n",
    "How many such routes are there through a 20×20 grid?"
   ]
  },
  {
   "cell_type": "markdown",
   "metadata": {
    "collapsed": false
   },
   "source": [
    "for 2x2 case, we find out the cominations of these 4 operations:\n",
    "> RRDD\n",
    "RDRD\n",
    "RDDR\n",
    "DRRD\n",
    "DRDR\n",
    "DDRR\n",
    "\n",
    "Thus for 20x20 case, we find out the cominations of these 40 operations::\n",
    "\n",
    "RRRRRRRRRRRRRRRRRRRRDDDDDDDDDDDDDDDDDDDD\n",
    "\n",
    "or in binary:\n",
    "\n",
    "1111111111111111111100000000000000000000\n",
    "\n",
    "which is a problem of combinations"
   ]
  },
  {
   "cell_type": "code",
   "execution_count": 28,
   "metadata": {
    "collapsed": false
   },
   "outputs": [
    {
     "name": "stdout",
     "output_type": "stream",
     "text": [
      "137846528820\n"
     ]
    }
   ],
   "source": [
    "from math import factorial as f\n",
    "n=20\n",
    "print f(2*n)/(f(n)*f(n))"
   ]
  },
  {
   "cell_type": "code",
   "execution_count": null,
   "metadata": {
    "collapsed": true
   },
   "outputs": [],
   "source": []
  }
 ],
 "metadata": {
  "kernelspec": {
   "display_name": "Python 2",
   "language": "python",
   "name": "python2"
  },
  "language_info": {
   "codemirror_mode": {
    "name": "ipython",
    "version": 2
   },
   "file_extension": ".py",
   "mimetype": "text/x-python",
   "name": "python",
   "nbconvert_exporter": "python",
   "pygments_lexer": "ipython2",
   "version": "2.7.11"
  }
 },
 "nbformat": 4,
 "nbformat_minor": 0
}
