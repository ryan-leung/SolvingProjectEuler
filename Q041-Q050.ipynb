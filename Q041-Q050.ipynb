{
 "cells": [
  {
   "cell_type": "markdown",
   "metadata": {},
   "source": [
    "## Q041\n",
    "### Pandigital prime\n",
    "\n",
    "We shall say that an n-digit number is pandigital if it makes use of all the digits 1 to n exactly once. For example, 2143 is a 4-digit pandigital and is also prime.\n",
    "\n",
    "What is the largest n-digit pandigital prime that exists?"
   ]
  },
  {
   "cell_type": "code",
   "execution_count": null,
   "metadata": {
    "collapsed": true
   },
   "outputs": [],
   "source": []
  },
  {
   "cell_type": "markdown",
   "metadata": {},
   "source": [
    "## Q042\n",
    "### Coded triangle numbers\n",
    "\n",
    "The nth term of the sequence of triangle numbers is given by, $t^n = 1/2 n(n+1)$; so the first ten triangle numbers are:\n",
    "\n",
    "1, 3, 6, 10, 15, 21, 28, 36, 45, 55, ...\n",
    "\n",
    "By converting each letter in a word to a number corresponding to its alphabetical position and adding these values we form a word value. For example, the word value for SKY is 19 + 11 + 25 = 55 = $t_{10}$. If the word value is a triangle number then we shall call the word a triangle word.\n",
    "\n",
    "Using words.txt (right click and 'Save Link/Target As...'), a 16K text file containing nearly two-thousand common English words, how many are triangle words?"
   ]
  },
  {
   "cell_type": "code",
   "execution_count": 1,
   "metadata": {},
   "outputs": [
    {
     "name": "stdout",
     "output_type": "stream",
     "text": [
      "--2017-09-24 17:48:19--  https://projecteuler.net/project/resources/p042_words.txt\n",
      "Resolving projecteuler.net (projecteuler.net)... 185.119.173.194\n",
      "Connecting to projecteuler.net (projecteuler.net)|185.119.173.194|:443... connected.\n",
      "HTTP request sent, awaiting response... 200 OK\n",
      "Length: 16345 (16K) [text/plain]\n",
      "Saving to: ‘p042_words.txt’\n",
      "\n",
      "100%[======================================>] 16,345      60.0KB/s   in 0.3s   \n",
      "\n",
      "2017-09-24 17:48:21 (60.0 KB/s) - ‘p042_words.txt’ saved [16345/16345]\n",
      "\n"
     ]
    }
   ],
   "source": [
    "!wget 'https://projecteuler.net/project/resources/p042_words.txt'"
   ]
  },
  {
   "cell_type": "code",
   "execution_count": 29,
   "metadata": {},
   "outputs": [
    {
     "name": "stdout",
     "output_type": "stream",
     "text": [
      "162\n"
     ]
    }
   ],
   "source": [
    "f=open('p042_words.txt')\n",
    "words=f.read().replace('\\\"','').split(',')\n",
    "def wordToNumberSum(s):\n",
    "    return sum([ord(i)-ord('A')+1 for i in s])\n",
    "numbersum = map(wordToNumberSum,words)\n",
    "\n",
    "def triangularLessThanN(n):\n",
    "    i=1\n",
    "    triangular=[]\n",
    "    while i*(i+1)/2 < n:\n",
    "        triangular.append(i*(i+1)/2)\n",
    "        i+=1\n",
    "    return triangular\n",
    "triangular = triangularLessThanN(max(numbersum))\n",
    "count=0\n",
    "for i in numbersum:\n",
    "    for j in triangular:\n",
    "        if i == j:\n",
    "            count+=1\n",
    "print count"
   ]
  },
  {
   "cell_type": "markdown",
   "metadata": {},
   "source": [
    "## Q043\n",
    "### Sub-string divisibility\n",
    "\n",
    "The number, 1406357289, is a 0 to 9 pandigital number because it is made up of each of the digits 0 to 9 in some order, but it also has a rather interesting sub-string divisibility property.\n",
    "\n",
    "Let $d_1$ be the 1st digit, $d_2$ be the 2nd digit, and so on. In this way, we note the following:\n",
    "\n",
    "$d_2 d_3 d_4$=406 is divisible by 2\n",
    "\n",
    "$d_3 d_4 d_5$=063 is divisible by 3\n",
    "\n",
    "$d_4 d_5 d_6$=635 is divisible by 5\n",
    "\n",
    "$d_5 d_6 d_7$=357 is divisible by 7\n",
    "\n",
    "$d_6 d_7 d_8$=572 is divisible by 11\n",
    "\n",
    "$d_7 d_8 d_9$=728 is divisible by 13\n",
    "\n",
    "$d_8 d_9 d_{10}$=289 is divisible by 17\n",
    "\n",
    "Find the sum of all 0 to 9 pandigital numbers with this property."
   ]
  },
  {
   "cell_type": "code",
   "execution_count": null,
   "metadata": {
    "collapsed": true
   },
   "outputs": [],
   "source": []
  }
 ],
 "metadata": {
  "kernelspec": {
   "display_name": "Python [default]",
   "language": "python",
   "name": "python2"
  },
  "language_info": {
   "codemirror_mode": {
    "name": "ipython",
    "version": 2
   },
   "file_extension": ".py",
   "mimetype": "text/x-python",
   "name": "python",
   "nbconvert_exporter": "python",
   "pygments_lexer": "ipython2",
   "version": "2.7.13"
  }
 },
 "nbformat": 4,
 "nbformat_minor": 2
}
